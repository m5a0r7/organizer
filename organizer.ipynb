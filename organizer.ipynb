{
 "cells": [
  {
   "cell_type": "code",
   "execution_count": 57,
   "id": "7073e65c-57e2-4c06-9bcd-61c8228b03bd",
   "metadata": {},
   "outputs": [],
   "source": [
    "from pathlib import Path\n",
    "import numpy as np\n",
    "import shutil"
   ]
  },
  {
   "cell_type": "code",
   "execution_count": 4,
   "id": "a38d103f-c89a-4679-b5d7-ffe5424cba0c",
   "metadata": {},
   "outputs": [],
   "source": [
    "HOME_DIR = Path.home()"
   ]
  },
  {
   "cell_type": "code",
   "execution_count": 10,
   "id": "c18ccd4a-5b3b-4287-8cef-154a0013c200",
   "metadata": {},
   "outputs": [
    {
     "data": {
      "text/plain": [
       "PosixPath('/Users/mohammadaminroohi')"
      ]
     },
     "execution_count": 10,
     "metadata": {},
     "output_type": "execute_result"
    }
   ],
   "source": [
    "HOME_DIR.resolve()\n"
   ]
  },
  {
   "cell_type": "code",
   "execution_count": 33,
   "id": "e96005ad-caa4-4622-b43a-f9c538180d3f",
   "metadata": {},
   "outputs": [],
   "source": [
    "DOWNLOAD_DIR = HOME_DIR / 'downloads'"
   ]
  },
  {
   "cell_type": "code",
   "execution_count": 34,
   "id": "380f3781-f8ac-4a9c-b2ea-41f1296f7e9d",
   "metadata": {},
   "outputs": [],
   "source": [
    "assert DOWNLOAD_DIR.exists(), f'Directory \"{DOWNLOAD_DIR.resolve()}\" not found!'"
   ]
  },
  {
   "cell_type": "code",
   "execution_count": 89,
   "id": "26a656dd-d830-49f3-8671-20d4acdca348",
   "metadata": {},
   "outputs": [],
   "source": [
    "suffix_dir = {\n",
    "    '.png': 'images',\n",
    "    '.JPG': 'images',\n",
    "    '.jpg': 'images',\n",
    "    '.jpeg': 'images',\n",
    "    '.HEIC': 'images',\n",
    "    '.heic': 'images',\n",
    "    '.gif': 'images',\n",
    "    '.PNG': 'images',\n",
    "    \n",
    "    '.pdf': 'docs',\n",
    "    '.csv': 'docs',\n",
    "    '.xlsx': 'docs',\n",
    "    '.txt': 'docs',\n",
    "    '.xls': 'docs',\n",
    "    '.docx': 'docs',\n",
    "    \n",
    "    '.mp4': 'videos',\n",
    "    '.MOV': 'videos',\n",
    "    '.mov': 'videos',\n",
    "    '.MP4': 'videos',\n",
    "    '.mkv': 'videos',\n",
    "    '.MKV': 'videos',\n",
    "    \n",
    "    '.zip': 'files',\n",
    "    '.ipynb': 'files',\n",
    "    '.py': 'files',\n",
    "    '.html': 'files',\n",
    "    '.ai': 'files',\n",
    "    '.rar': 'files',\n",
    "    '.exe': 'files',\n",
    "    '.sh': 'files',\n",
    "    '.dmg': 'files',\n",
    "    '.whl': 'files',\n",
    "    '.ics': 'files',\n",
    "    '.srt': 'files',\n",
    "    '.isp': 'files',\n",
    "    \n",
    "    \n",
    "    '.mp3': 'music',\n",
    "    '.m4a': 'music'\n",
    "}\n",
    "\n",
    "\n",
    "myiter = DOWNLOAD_DIR.iterdir()\n",
    "\n",
    "next(myiter)\n",
    "sufixes = []\n",
    "for path in myiter:\n",
    "    \n",
    "    if path.is_dir():\n",
    "        # not supported yet\n",
    "        pass\n",
    "    elif path.is_file():\n",
    "        suffix = path.suffix\n",
    "        dest = suffix_dir.get(suffix)\n",
    "        \n",
    "        \n",
    "        if not dest:\n",
    "            continue\n",
    "\n",
    "        DEST_DIR = DOWNLOAD_DIR / dest\n",
    "        DEST_DIR.mkdir(exist_ok = True)\n",
    "\n",
    "        shutil.move(path, DEST_DIR / path.name)\n",
    "\n",
    "    \n",
    "\n",
    "    "
   ]
  }
 ],
 "metadata": {
  "kernelspec": {
   "display_name": "Python 3 (ipykernel)",
   "language": "python",
   "name": "python3"
  },
  "language_info": {
   "codemirror_mode": {
    "name": "ipython",
    "version": 3
   },
   "file_extension": ".py",
   "mimetype": "text/x-python",
   "name": "python",
   "nbconvert_exporter": "python",
   "pygments_lexer": "ipython3",
   "version": "3.9.7"
  }
 },
 "nbformat": 4,
 "nbformat_minor": 5
}
